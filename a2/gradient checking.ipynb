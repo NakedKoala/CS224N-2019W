{
 "cells": [
  {
   "cell_type": "code",
   "execution_count": 1,
   "metadata": {},
   "outputs": [],
   "source": [
    "import numpy as np"
   ]
  },
  {
   "cell_type": "code",
   "execution_count": 3,
   "metadata": {},
   "outputs": [],
   "source": [
    "def sigmoid(x):\n",
    "    s = 1 / ( 1 + np.exp(-x) )\n",
    "    return s"
   ]
  },
  {
   "cell_type": "code",
   "execution_count": null,
   "metadata": {},
   "outputs": [],
   "source": [
    "K sample including outside word\n",
    "\n",
    "outside word a\n",
    "[0, 4, 2, 3, 4, 4, 3, 1, 2, 3, 1]\n",
    "\n",
    "\n",
    "outside word b \n",
    "[1, 3, 3, 3, 0, 4, 0, 2, 0, 2, 4]\n",
    "\n",
    "{'a': 0, 'b': 1, 'c': 2, 'd': 3, 'e': 4}\n",
    "\n",
    "V\n",
    "array([[-0.96735714, -0.02182641,  0.25247529],\n",
    "       [ 0.73663029, -0.48088687, -0.47552459],\n",
    "       [-0.27323645,  0.12538062,  0.95374082],\n",
    "       [-0.56713774, -0.27178229, -0.77748902],\n",
    "       [-0.59609459,  0.7795666 ,  0.19221644]])\n",
    "\n",
    "\n",
    "U\n",
    "array([[-0.6831809 , -0.04200519,  0.72904007],  0\n",
    "       [ 0.18289107,  0.76098587, -0.62245591],  1\n",
    "       [-0.61517874,  0.5147624 , -0.59713884],  2\n",
    "       [-0.33867074, -0.80966534, -0.47931635],  3\n",
    "       [-0.52629529, -0.78190408,  0.33412466]]) 4\n",
    "\n",
    "\n",
    "\n",
    "\n",
    "c_index = 2 \n",
    "o_index = 0\n",
    "\n",
    "0.3479392611333514 + 6.126569967476927 = 6.4745092286102786\n",
    "\n",
    "c_index = 2 \n",
    "o_index = 1 \n",
    "\n",
    "1.0043648713327047 + 7.996380489785403 = 9.000745361118108\n",
    "\n",
    "\n"
   ]
  },
  {
   "cell_type": "code",
   "execution_count": 23,
   "metadata": {},
   "outputs": [
    {
     "data": {
      "text/plain": [
       "15.475254589728387"
      ]
     },
     "execution_count": 23,
     "metadata": {},
     "output_type": "execute_result"
    }
   ],
   "source": [
    "6.4745092286102786 + 9.000745361118108"
   ]
  },
  {
   "cell_type": "code",
   "execution_count": 19,
   "metadata": {},
   "outputs": [
    {
     "data": {
      "text/plain": [
       "-1.0043648713327047"
      ]
     },
     "execution_count": 19,
     "metadata": {},
     "output_type": "execute_result"
    }
   ],
   "source": [
    "np.log(sigmoid(np.dot(np.array([ 0.18289107,  0.76098587, -0.62245591]), np.array([-0.27323645,  0.12538062,  0.95374082]))))"
   ]
  },
  {
   "cell_type": "code",
   "execution_count": 18,
   "metadata": {},
   "outputs": [
    {
     "data": {
      "text/plain": [
       "6.4745092286102786"
      ]
     },
     "execution_count": 18,
     "metadata": {},
     "output_type": "execute_result"
    }
   ],
   "source": [
    "0.3479392611333514 + 6.126569967476927"
   ]
  },
  {
   "cell_type": "code",
   "execution_count": 16,
   "metadata": {},
   "outputs": [
    {
     "data": {
      "text/plain": [
       "-0.3479392611333514"
      ]
     },
     "execution_count": 16,
     "metadata": {},
     "output_type": "execute_result"
    }
   ],
   "source": [
    "np.log(0.7061417651623674)"
   ]
  },
  {
   "cell_type": "code",
   "execution_count": 21,
   "metadata": {},
   "outputs": [
    {
     "name": "stdout",
     "output_type": "stream",
     "text": [
      "[[ 0.33867074  0.80966534  0.47931635]\n",
      " [ 0.33867074  0.80966534  0.47931635]\n",
      " [ 0.33867074  0.80966534  0.47931635]\n",
      " [ 0.6831809   0.04200519 -0.72904007]\n",
      " [ 0.52629529  0.78190408 -0.33412466]\n",
      " [ 0.6831809   0.04200519 -0.72904007]\n",
      " [ 0.61517874 -0.5147624   0.59713884]\n",
      " [ 0.6831809   0.04200519 -0.72904007]\n",
      " [ 0.61517874 -0.5147624   0.59713884]\n",
      " [ 0.52629529  0.78190408 -0.33412466]]\n"
     ]
    },
    {
     "data": {
      "text/plain": [
       "-7.996380489785403"
      ]
     },
     "execution_count": 21,
     "metadata": {},
     "output_type": "execute_result"
    }
   ],
   "source": [
    "U = np.array([[-0.6831809 , -0.04200519,  0.72904007],\n",
    "       [ 0.18289107,  0.76098587, -0.62245591],  \n",
    "       [-0.61517874,  0.5147624 , -0.59713884],  \n",
    "       [-0.33867074, -0.80966534, -0.47931635],  \n",
    "       [-0.52629529, -0.78190408,  0.33412466]]) \n",
    "K = np.array([3, 3, 3, 0, 4, 0, 2, 0, 2, 4])\n",
    "\n",
    "print(-U[K,:])\n",
    "\n",
    "np.sum(np.log(sigmoid(np.matmul(-U[K,:], np.array([-0.27323645,  0.12538062,  0.95374082]).T))))"
   ]
  },
  {
   "cell_type": "code",
   "execution_count": 11,
   "metadata": {},
   "outputs": [
    {
     "data": {
      "text/plain": [
       "-0.36443576557101215"
      ]
     },
     "execution_count": 11,
     "metadata": {},
     "output_type": "execute_result"
    }
   ],
   "source": [
    "np.dot(np.array([ 0.52629529, 0.78190408,-0.33412466]), np.array([-0.27323645,  0.12538062,  0.95374082]))"
   ]
  },
  {
   "cell_type": "markdown",
   "metadata": {},
   "source": [
    "### b)"
   ]
  },
  {
   "cell_type": "code",
   "execution_count": 89,
   "metadata": {},
   "outputs": [],
   "source": [
    "np.random.seed(0)\n",
    "V = np.random.rand(2,3)\n",
    "U = np.random.rand(2,3)\n",
    "c_index = 1\n",
    "o_index = 2\n",
    "y = np.array([0,0,1]).reshape(-1,1)\n",
    "h = 1e-4"
   ]
  },
  {
   "cell_type": "code",
   "execution_count": 90,
   "metadata": {},
   "outputs": [],
   "source": [
    "V_cp1 = np.matrix.copy(V)\n",
    "V_cp1[1, c_index] += h\n",
    "V_cp2 = np.matrix.copy(V)\n",
    "V_cp2[1, c_index] -= h "
   ]
  },
  {
   "cell_type": "code",
   "execution_count": 93,
   "metadata": {},
   "outputs": [],
   "source": [
    "def cond_prob(v_c, y, U):\n",
    "    u_o = np.matmul(U, y)\n",
    "    numerator = np.exp(np.matmul(u_o.T, v_c))\n",
    "    denominator = np.sum(np.exp(np.matmul(U.T, v_c)))\n",
    "    \n",
    "    return (numerator / denominator).item()\n",
    "\n",
    "def cost_func(v_c, y, U):\n",
    "    return -1 * np.log(cond_prob(v_c, y, U))\n",
    "\n",
    "def gradient(v_c, y, U):\n",
    "    \n",
    "    y_hat_denominator = np.sum(np.exp(np.matmul(U.T, v_c)))\n",
    "    y_hat_numerator = np.exp(np.matmul(U.T, v_c))\n",
    "    y_hat = (y_hat_numerator / y_hat_denominator).reshape(-1,1)\n",
    "\n",
    "    return -1* (np.matmul(U, y) - np.matmul(U, y_hat))\n",
    "    \n",
    "    "
   ]
  },
  {
   "cell_type": "code",
   "execution_count": 94,
   "metadata": {},
   "outputs": [
    {
     "name": "stdout",
     "output_type": "stream",
     "text": [
      "0.06840584367562297\n",
      "[[-0.15361593]\n",
      " [ 0.06840584]]\n"
     ]
    }
   ],
   "source": [
    "\n",
    "RHS = (cost_func(V_cp1[:,c_index], y, U) - cost_func(V_cp2[:,c_index], y, U)) / (2 * h)\n",
    "LHS = gradient(V[:,c_index], y, U)\n",
    "print(RHS)\n",
    "print(LHS)"
   ]
  },
  {
   "cell_type": "markdown",
   "metadata": {},
   "source": [
    "### c)  o = w "
   ]
  },
  {
   "cell_type": "code",
   "execution_count": 127,
   "metadata": {},
   "outputs": [],
   "source": [
    "def gradient(v_c, y, U):\n",
    "    y_hat_denominator = np.sum(np.exp(np.matmul(U.T, v_c)))\n",
    "    y_hat_numerator = np.exp(np.matmul(U.T, v_c))\n",
    "    y_hat = (y_hat_numerator / y_hat_denominator).reshape(-1,1)\n",
    "\n",
    "    return -1 * (v_c - np.dot(y_hat.squeeze(), y.squeeze()) * v_c).reshape(-1,1)\n",
    "    "
   ]
  },
  {
   "cell_type": "code",
   "execution_count": null,
   "metadata": {},
   "outputs": [],
   "source": [
    "np.random.seed(0)\n",
    "V = np.random.rand(2,3)\n",
    "U = np.random.rand(2,3)\n",
    "c_index = 1\n",
    "o_index = 2\n",
    "y = np.array([0,0,1]).reshape(-1,1)\n",
    "h = 1e-4"
   ]
  },
  {
   "cell_type": "code",
   "execution_count": 129,
   "metadata": {},
   "outputs": [],
   "source": [
    "U_cp1 = np.matrix.copy(U)\n",
    "U_cp1[1,o_index] += h\n",
    "U_cp2 = np.matrix.copy(U)\n",
    "U_cp2[1,o_index] -= h\n"
   ]
  },
  {
   "cell_type": "code",
   "execution_count": 130,
   "metadata": {},
   "outputs": [],
   "source": [
    "RHS = (cost_func(V[:,c_index], y, U_cp1) - cost_func(V[:,c_index], y, U_cp2)) /  ( 2 * h)\n",
    "LHS = gradient(V[:,c_index], y, U)"
   ]
  },
  {
   "cell_type": "markdown",
   "metadata": {},
   "source": [
    "### c) o != w"
   ]
  },
  {
   "cell_type": "code",
   "execution_count": 136,
   "metadata": {},
   "outputs": [],
   "source": [
    "def gradient(v_c, y, U):\n",
    "    y_hat_denominator = np.sum(np.exp(np.matmul(U.T, v_c)))\n",
    "    y_hat_numerator = np.exp(np.matmul(U.T, v_c))\n",
    "    y_hat = (y_hat_numerator / y_hat_denominator).reshape(-1,1)\n",
    "\n",
    "    return (np.dot(y_hat.squeeze(), y.squeeze()) * v_c).reshape(-1,1)\n",
    "    "
   ]
  },
  {
   "cell_type": "code",
   "execution_count": 143,
   "metadata": {},
   "outputs": [],
   "source": [
    "np.random.seed(0)\n",
    "V = np.random.rand(2,3)\n",
    "U = np.random.rand(2,3)\n",
    "c_index = 1\n",
    "o_index = 2\n",
    "y = np.array([0,0,1]).reshape(-1,1)\n",
    "h = 1e-4"
   ]
  },
  {
   "cell_type": "code",
   "execution_count": 148,
   "metadata": {},
   "outputs": [],
   "source": [
    "U_cp1 = np.matrix.copy(U)\n",
    "U_cp1[0,0] += h\n",
    "U_cp2 = np.matrix.copy(U)\n",
    "U_cp2[0,0] -= h\n"
   ]
  },
  {
   "cell_type": "code",
   "execution_count": 149,
   "metadata": {},
   "outputs": [],
   "source": [
    "RHS = (cost_func(V[:,c_index], y, U_cp1) - cost_func(V[:,c_index], y, U_cp2)) /  ( 2 * h)\n",
    "LHS = gradient(V[:,c_index], y, U)"
   ]
  },
  {
   "cell_type": "markdown",
   "metadata": {},
   "source": [
    "### d)"
   ]
  },
  {
   "cell_type": "code",
   "execution_count": 152,
   "metadata": {},
   "outputs": [],
   "source": [
    "def sigmoid(x):\n",
    "    return 1 / (1 + np.exp(-x))\n",
    "def gradient(x):\n",
    "    return sigmoid(x) / (np.exp(x) + 1) "
   ]
  },
  {
   "cell_type": "code",
   "execution_count": 153,
   "metadata": {},
   "outputs": [],
   "source": [
    "x = 0.8 \n",
    "h = 1e-4 \n",
    "\n",
    "RHS = (sigmoid(x + h) - sigmoid(x - h)) / (2*h)\n",
    "LHS = gradient(x)\n"
   ]
  },
  {
   "cell_type": "code",
   "execution_count": 154,
   "metadata": {},
   "outputs": [
    {
     "name": "stdout",
     "output_type": "stream",
     "text": [
      "0.2139096964187681\n",
      "0.21390969652029443\n"
     ]
    }
   ],
   "source": [
    "print(RHS)\n",
    "print(LHS)"
   ]
  },
  {
   "cell_type": "markdown",
   "metadata": {},
   "source": [
    "### e)  d / d v_c"
   ]
  },
  {
   "cell_type": "code",
   "execution_count": 288,
   "metadata": {},
   "outputs": [],
   "source": [
    "np.random.seed(0)\n",
    "V = np.random.rand(2,5)\n",
    "U = np.random.rand(2,5)\n",
    "k_idx = np.array([0, 3, 4])\n",
    "U_k = U[:,k_idx]\n",
    "c_index = 1\n",
    "o_index = 2\n",
    "y = np.array([0,0,1,0,0]).reshape(-1,1)\n",
    "h = 1e-4"
   ]
  },
  {
   "cell_type": "code",
   "execution_count": 271,
   "metadata": {},
   "outputs": [
    {
     "data": {
      "text/plain": [
       "array([[0.79172504, 0.92559664, 0.07103606],\n",
       "       [0.0871293 , 0.77815675, 0.87001215]])"
      ]
     },
     "execution_count": 271,
     "metadata": {},
     "output_type": "execute_result"
    }
   ],
   "source": [
    "U_k"
   ]
  },
  {
   "cell_type": "code",
   "execution_count": 279,
   "metadata": {},
   "outputs": [],
   "source": [
    "V_cp1 = np.matrix.copy(V)\n",
    "V_cp1[1, c_index] += h\n",
    "V_cp2 = np.matrix.copy(V)\n",
    "V_cp2[1, c_index] -= h "
   ]
  },
  {
   "cell_type": "code",
   "execution_count": 280,
   "metadata": {},
   "outputs": [],
   "source": [
    "def cost_func(v_c, y, U_k, U):\n",
    "    u_o = np.matmul(U, y)\n",
    "    return (- np.log(sigmoid(np.matmul(u_o.T, v_c))) - np.sum(np.log(sigmoid(np.matmul(-U_k.T, v_c))))).item()"
   ]
  },
  {
   "cell_type": "code",
   "execution_count": 281,
   "metadata": {},
   "outputs": [],
   "source": [
    "RHS = (cost_func(V_cp1[:,c_index], y, U_k, U) - cost_func(V_cp2[:,c_index], y, U_k, U)) / (2 * h)"
   ]
  },
  {
   "cell_type": "code",
   "execution_count": 282,
   "metadata": {},
   "outputs": [
    {
     "data": {
      "text/plain": [
       "0.8896341318220813"
      ]
     },
     "execution_count": 282,
     "metadata": {},
     "output_type": "execute_result"
    }
   ],
   "source": [
    "RHS"
   ]
  },
  {
   "cell_type": "code",
   "execution_count": 287,
   "metadata": {},
   "outputs": [
    {
     "data": {
      "text/plain": [
       "array([[1.05245381],\n",
       "       [0.88963413]])"
      ]
     },
     "execution_count": 287,
     "metadata": {},
     "output_type": "execute_result"
    }
   ],
   "source": [
    "gradient(V[:,c_index], y, U_k, U)"
   ]
  },
  {
   "cell_type": "code",
   "execution_count": 285,
   "metadata": {},
   "outputs": [],
   "source": [
    "def gradient(v_c, y, U_k, U):\n",
    "    \n",
    "    \n",
    "    u_o = np.matmul(U, y)\n",
    "    return -(1 - sigmoid( np.matmul(u_o.T, v_c))) * u_o + np.matmul(U_k,\\\n",
    "                                                                    (1 - sigmoid(np.matmul(-U_k.T, v_c)))).reshape(-1,1)\n"
   ]
  },
  {
   "cell_type": "markdown",
   "metadata": {},
   "source": [
    "### e) d / d u_o"
   ]
  },
  {
   "cell_type": "code",
   "execution_count": 289,
   "metadata": {},
   "outputs": [],
   "source": [
    "np.random.seed(0)\n",
    "V = np.random.rand(2,5)\n",
    "U = np.random.rand(2,5)\n",
    "k_idx = np.array([0, 3, 4])\n",
    "U_k = U[:,k_idx]\n",
    "c_index = 1\n",
    "o_index = 2\n",
    "y = np.array([0,0,1,0,0]).reshape(-1,1)\n",
    "h = 1e-4"
   ]
  },
  {
   "cell_type": "code",
   "execution_count": 304,
   "metadata": {},
   "outputs": [],
   "source": [
    "U_cp1 = np.matrix.copy(U)\n",
    "U_cp1[1, o_index] += h\n",
    "U_cp2 = np.matrix.copy(U)\n",
    "U_cp2[1, o_index] -= h "
   ]
  },
  {
   "cell_type": "code",
   "execution_count": 305,
   "metadata": {},
   "outputs": [],
   "source": [
    "RHS = (cost_func(V[:,c_index], y, U_k, U_cp1) - cost_func(V[:,c_index], y, U_k, U_cp2)) / (2 * h)"
   ]
  },
  {
   "cell_type": "code",
   "execution_count": 306,
   "metadata": {},
   "outputs": [
    {
     "data": {
      "text/plain": [
       "-0.13843011515746184"
      ]
     },
     "execution_count": 306,
     "metadata": {},
     "output_type": "execute_result"
    }
   ],
   "source": [
    "RHS"
   ]
  },
  {
   "cell_type": "code",
   "execution_count": 299,
   "metadata": {},
   "outputs": [],
   "source": [
    "def gradient(v_c, y, U_k, U):\n",
    "    u_o = np.matmul(U, y)\n",
    "    return -1 * ( 1 - sigmoid( np.matmul(u_o.T, v_c))) * v_c"
   ]
  },
  {
   "cell_type": "code",
   "execution_count": 300,
   "metadata": {},
   "outputs": [
    {
     "data": {
      "text/plain": [
       "array([-0.22624918, -0.13843012])"
      ]
     },
     "execution_count": 300,
     "metadata": {},
     "output_type": "execute_result"
    }
   ],
   "source": [
    "gradient(V[:,c_index], y, U_k, U)"
   ]
  },
  {
   "cell_type": "markdown",
   "metadata": {},
   "source": [
    "### e) d / d u_w"
   ]
  },
  {
   "cell_type": "code",
   "execution_count": 307,
   "metadata": {},
   "outputs": [],
   "source": [
    "np.random.seed(0)\n",
    "V = np.random.rand(2,5)\n",
    "U = np.random.rand(2,5)\n",
    "k_idx = np.array([0, 3, 4])\n",
    "U_k = U[:,k_idx]\n",
    "c_index = 1\n",
    "o_index = 2\n",
    "y = np.array([0,0,1,0,0]).reshape(-1,1)\n",
    "h = 1e-4"
   ]
  },
  {
   "cell_type": "code",
   "execution_count": 356,
   "metadata": {},
   "outputs": [],
   "source": [
    "U_k_cp1 = np.matrix.copy(U_k)\n",
    "U_k_cp1[0, 0] += h\n",
    "U_k_cp2 = np.matrix.copy(U_k)\n",
    "U_k_cp2[0, 0] -= h"
   ]
  },
  {
   "cell_type": "code",
   "execution_count": 357,
   "metadata": {},
   "outputs": [],
   "source": [
    "RHS = (cost_func(V[:,c_index], y, U_k_cp1, U) - cost_func(V[:,c_index], y, U_k_cp2, U)) / (2 * h)"
   ]
  },
  {
   "cell_type": "code",
   "execution_count": 358,
   "metadata": {},
   "outputs": [
    {
     "data": {
      "text/plain": [
       "0.46247947077526774"
      ]
     },
     "execution_count": 358,
     "metadata": {},
     "output_type": "execute_result"
    }
   ],
   "source": [
    "RHS"
   ]
  },
  {
   "cell_type": "code",
   "execution_count": 359,
   "metadata": {},
   "outputs": [],
   "source": [
    "def gradient(v_c, y, U_k, U, x):\n",
    "\n",
    "    u_x = U_k[:, x]\n",
    "    return ( 1 - sigmoid( np.matmul(-u_x.T, v_c))) * v_c"
   ]
  },
  {
   "cell_type": "code",
   "execution_count": 361,
   "metadata": {},
   "outputs": [
    {
     "data": {
      "text/plain": [
       "array([0.46247947, 0.28296716])"
      ]
     },
     "execution_count": 361,
     "metadata": {},
     "output_type": "execute_result"
    }
   ],
   "source": [
    "gradient(V[:,c_index], y, U_k, U, 0)"
   ]
  },
  {
   "cell_type": "code",
   "execution_count": null,
   "metadata": {},
   "outputs": [],
   "source": []
  },
  {
   "cell_type": "code",
   "execution_count": null,
   "metadata": {},
   "outputs": [],
   "source": []
  }
 ],
 "metadata": {
  "kernelspec": {
   "display_name": "Python 3",
   "language": "python",
   "name": "python3"
  },
  "language_info": {
   "codemirror_mode": {
    "name": "ipython",
    "version": 3
   },
   "file_extension": ".py",
   "mimetype": "text/x-python",
   "name": "python",
   "nbconvert_exporter": "python",
   "pygments_lexer": "ipython3",
   "version": "3.7.7"
  }
 },
 "nbformat": 4,
 "nbformat_minor": 4
}
